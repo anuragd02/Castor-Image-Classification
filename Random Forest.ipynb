{
 "cells": [
  {
   "cell_type": "code",
   "execution_count": 1,
   "id": "6b18d031-5ceb-4c77-b859-df9bf74dcb2b",
   "metadata": {},
   "outputs": [
    {
     "name": "stdout",
     "output_type": "stream",
     "text": [
      "Dataset loaded and split successfully!\n"
     ]
    }
   ],
   "source": [
    "import os\n",
    "import cv2\n",
    "import numpy as np\n",
    "from sklearn.model_selection import train_test_split\n",
    "from sklearn.ensemble import RandomForestClassifier\n",
    "from sklearn.metrics import classification_report, confusion_matrix, accuracy_score\n",
    "import joblib\n",
    "\n",
    "# Function to load images and labels\n",
    "def load_images(folder_path, label, image_size=64):\n",
    "    images = []\n",
    "    labels = []\n",
    "    for file_name in os.listdir(folder_path):\n",
    "        if file_name.endswith(\".jpg\"):\n",
    "            image_path = os.path.join(folder_path, file_name)\n",
    "            image = cv2.imread(image_path, cv2.IMREAD_GRAYSCALE)\n",
    "            image_resized = cv2.resize(image, (image_size, image_size))\n",
    "            images.append(image_resized.flatten())\n",
    "            labels.append(label)\n",
    "    return images, labels\n",
    "\n",
    "# Load healthy and unhealthy images\n",
    "healthy_images, healthy_labels = load_images('D:/AI Algorithm/Castor/healthy spikes/', 0)\n",
    "unhealthy_images, unhealthy_labels = load_images('D:/AI Algorithm/Castor/infected spikes/', 1)\n",
    "\n",
    "# Combine images and labels\n",
    "X = np.array(healthy_images + unhealthy_images)\n",
    "y = np.array(healthy_labels + unhealthy_labels)\n",
    "\n",
    "# Split the dataset into training and testing sets\n",
    "X_train, X_test, y_train, y_test = train_test_split(X, y, test_size=0.2, random_state=42)\n",
    "print(\"Dataset loaded and split successfully!\")\n"
   ]
  },
  {
   "cell_type": "code",
   "execution_count": 2,
   "id": "08ebf0d8-98cb-412d-9269-35185d30a02c",
   "metadata": {},
   "outputs": [
    {
     "name": "stdout",
     "output_type": "stream",
     "text": [
      "Random Forest model trained successfully!\n"
     ]
    }
   ],
   "source": [
    "# Create and train the Random Forest classifier\n",
    "rf_model = RandomForestClassifier(n_estimators=100, random_state=42)\n",
    "rf_model.fit(X_train, y_train)\n",
    "print(\"Random Forest model trained successfully!\")\n"
   ]
  },
  {
   "cell_type": "code",
   "execution_count": 3,
   "id": "53c07a09-5f60-4531-b21e-88ef03b09678",
   "metadata": {},
   "outputs": [
    {
     "name": "stdout",
     "output_type": "stream",
     "text": [
      "Random Forest model saved successfully!\n"
     ]
    }
   ],
   "source": [
    "# Save the trained Random Forest model\n",
    "joblib.dump(rf_model, 'random_forest_cucumber_classifier.pkl')\n",
    "print(\"Random Forest model saved successfully!\")\n"
   ]
  },
  {
   "cell_type": "code",
   "execution_count": 5,
   "id": "4776f27e-a604-40fa-bf7b-dff2a7128e2d",
   "metadata": {},
   "outputs": [],
   "source": [
    "# Generate predictions\n",
    "y_pred = rf_model.predict(X_test)\n"
   ]
  },
  {
   "cell_type": "code",
   "execution_count": 6,
   "id": "9ac34213-e4b2-4d9f-b335-df03244ab492",
   "metadata": {},
   "outputs": [
    {
     "name": "stdout",
     "output_type": "stream",
     "text": [
      "Accuracy: 0.94\n",
      "Precision: 0.92\n",
      "Recall: 0.99\n",
      "F1-Score: 0.96\n",
      "AUC: 0.90\n",
      "Confusion Matrix:\n",
      "[[146  34]\n",
      " [  4 409]]\n",
      "Mean Absolute Error (MAE): 0.06\n",
      "Mean Squared Error (MSE): 0.06\n",
      "Root Mean Squared Error (RMSE): 0.25\n",
      "Mean Absolute Percentage Error (MAPE): 258216504773350.53\n",
      "Systematic Mean Absolute Percentage Error (SMAPE): 12.82\n",
      "Explained Variance Score: 0.71\n",
      "R^2 Score: 0.70\n",
      "Mean Bias Deviation (MBD): 0.05\n"
     ]
    }
   ],
   "source": [
    "from sklearn.metrics import accuracy_score, precision_score, recall_score, f1_score, roc_auc_score, confusion_matrix\n",
    "from sklearn.metrics import mean_absolute_error, mean_squared_error, mean_absolute_percentage_error, r2_score, explained_variance_score\n",
    "\n",
    "import numpy as np\n",
    "\n",
    "# Accuracy, Precision, Recall, F1-Score, AUC\n",
    "accuracy = accuracy_score(y_test, y_pred)\n",
    "precision = precision_score(y_test, y_pred)\n",
    "recall = recall_score(y_test, y_pred)\n",
    "f1 = f1_score(y_test, y_pred)\n",
    "auc = roc_auc_score(y_test, y_pred)\n",
    "conf_matrix = confusion_matrix(y_test, y_pred)\n",
    "\n",
    "# Mean Absolute Error (MAE), Mean Squared Error (MSE), Root Mean Squared Error (RMSE)\n",
    "mae = mean_absolute_error(y_test, y_pred)\n",
    "mse = mean_squared_error(y_test, y_pred)\n",
    "rmse = np.sqrt(mse)\n",
    "\n",
    "# Mean Absolute Percentage Error (MAPE) and Systematic Mean Absolute Percentage Error (SMAPE)\n",
    "mape = mean_absolute_percentage_error(y_test, y_pred)\n",
    "\n",
    "# SMAPE formula: 100 * mean(2 * abs(y_pred - y_test) / (abs(y_pred) + abs(y_test)))\n",
    "epsilon = 1e-10  # Small constant to avoid division by zero\n",
    "smape = 100 * np.mean(2 * np.abs(y_pred - y_test) / (np.abs(y_pred) + np.abs(y_test) + epsilon))\n",
    "#smape = 100 * np.mean(2 * np.abs(y_pred - y_test) / (np.abs(y_pred) + np.abs(y_test)))\n",
    "\n",
    "# Explained Variance Score and R^2 Score\n",
    "explained_var = explained_variance_score(y_test, y_pred)\n",
    "r2 = r2_score(y_test, y_pred)\n",
    "\n",
    "# Mean Bias Deviation (MBD)\n",
    "mbd = np.mean(y_pred - y_test)\n",
    "\n",
    "# Display the results\n",
    "print(f\"Accuracy: {accuracy:.2f}\")\n",
    "print(f\"Precision: {precision:.2f}\")\n",
    "print(f\"Recall: {recall:.2f}\")\n",
    "print(f\"F1-Score: {f1:.2f}\")\n",
    "print(f\"AUC: {auc:.2f}\")\n",
    "print(\"Confusion Matrix:\")\n",
    "print(conf_matrix)\n",
    "print(f\"Mean Absolute Error (MAE): {mae:.2f}\")\n",
    "print(f\"Mean Squared Error (MSE): {mse:.2f}\")\n",
    "print(f\"Root Mean Squared Error (RMSE): {rmse:.2f}\")\n",
    "print(f\"Mean Absolute Percentage Error (MAPE): {mape:.2f}\")\n",
    "print(f\"Systematic Mean Absolute Percentage Error (SMAPE): {smape:.2f}\")\n",
    "print(f\"Explained Variance Score: {explained_var:.2f}\")\n",
    "print(f\"R^2 Score: {r2:.2f}\")\n",
    "print(f\"Mean Bias Deviation (MBD): {mbd:.2f}\")\n"
   ]
  },
  {
   "cell_type": "code",
   "execution_count": null,
   "id": "3745d4bd-1c36-4bcf-8254-b035f1896d02",
   "metadata": {},
   "outputs": [],
   "source": []
  }
 ],
 "metadata": {
  "kernelspec": {
   "display_name": "Python 3 (ipykernel)",
   "language": "python",
   "name": "python3"
  },
  "language_info": {
   "codemirror_mode": {
    "name": "ipython",
    "version": 3
   },
   "file_extension": ".py",
   "mimetype": "text/x-python",
   "name": "python",
   "nbconvert_exporter": "python",
   "pygments_lexer": "ipython3",
   "version": "3.13.1"
  }
 },
 "nbformat": 4,
 "nbformat_minor": 5
}
